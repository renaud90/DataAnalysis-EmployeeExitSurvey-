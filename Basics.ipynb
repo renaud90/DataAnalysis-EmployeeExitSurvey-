{
 "cells": [
  {
   "cell_type": "markdown",
   "metadata": {
    "collapsed": true
   },
   "source": [
    "<h1>Exit survey analysis from DETE and TAFE</h1>\n",
    "\n",
    "<h3>Step 1 - Importing and understanding the data</h3>\n",
    "\n",
    "<p>\n",
    "This project aims to identify the cause of employees resigning from the Department of Education, Training ad Employment (DETE) and the Technical and Further Education (TAFE) institute using their exit surveys. We want to identify the type of dissatisfaction the employees experienced as well as the correlation of these dissastifaction with the employee's seniority.\n",
    "</p>"
   ]
  },
  {
   "cell_type": "code",
   "execution_count": 1,
   "metadata": {
    "collapsed": false
   },
   "outputs": [
    {
     "name": "stdout",
     "output_type": "stream",
     "text": [
      "DETE SURVEY DATAFRAME INFO\n",
      "<class 'pandas.core.frame.DataFrame'>\n",
      "RangeIndex: 822 entries, 0 to 821\n",
      "Data columns (total 56 columns):\n",
      "ID                                     822 non-null int64\n",
      "SeparationType                         822 non-null object\n",
      "Cease Date                             822 non-null object\n",
      "DETE Start Date                        822 non-null object\n",
      "Role Start Date                        822 non-null object\n",
      "Position                               817 non-null object\n",
      "Classification                         455 non-null object\n",
      "Region                                 822 non-null object\n",
      "Business Unit                          126 non-null object\n",
      "Employment Status                      817 non-null object\n",
      "Career move to public sector           822 non-null bool\n",
      "Career move to private sector          822 non-null bool\n",
      "Interpersonal conflicts                822 non-null bool\n",
      "Job dissatisfaction                    822 non-null bool\n",
      "Dissatisfaction with the department    822 non-null bool\n",
      "Physical work environment              822 non-null bool\n",
      "Lack of recognition                    822 non-null bool\n",
      "Lack of job security                   822 non-null bool\n",
      "Work location                          822 non-null bool\n",
      "Employment conditions                  822 non-null bool\n",
      "Maternity/family                       822 non-null bool\n",
      "Relocation                             822 non-null bool\n",
      "Study/Travel                           822 non-null bool\n",
      "Ill Health                             822 non-null bool\n",
      "Traumatic incident                     822 non-null bool\n",
      "Work life balance                      822 non-null bool\n",
      "Workload                               822 non-null bool\n",
      "None of the above                      822 non-null bool\n",
      "Professional Development               808 non-null object\n",
      "Opportunities for promotion            735 non-null object\n",
      "Staff morale                           816 non-null object\n",
      "Workplace issue                        788 non-null object\n",
      "Physical environment                   817 non-null object\n",
      "Worklife balance                       815 non-null object\n",
      "Stress and pressure support            810 non-null object\n",
      "Performance of supervisor              813 non-null object\n",
      "Peer support                           812 non-null object\n",
      "Initiative                             813 non-null object\n",
      "Skills                                 811 non-null object\n",
      "Coach                                  767 non-null object\n",
      "Career Aspirations                     746 non-null object\n",
      "Feedback                               792 non-null object\n",
      "Further PD                             768 non-null object\n",
      "Communication                          814 non-null object\n",
      "My say                                 812 non-null object\n",
      "Information                            816 non-null object\n",
      "Kept informed                          813 non-null object\n",
      "Wellness programs                      766 non-null object\n",
      "Health & Safety                        793 non-null object\n",
      "Gender                                 798 non-null object\n",
      "Age                                    811 non-null object\n",
      "Aboriginal                             16 non-null object\n",
      "Torres Strait                          3 non-null object\n",
      "South Sea                              7 non-null object\n",
      "Disability                             23 non-null object\n",
      "NESB                                   32 non-null object\n",
      "dtypes: bool(18), int64(1), object(37)\n",
      "memory usage: 258.6+ KB\n",
      "None\n",
      "\n",
      "DETE SURVEY DATAFRAME 5 FIRST ROWS\n",
      "   ID                    SeparationType Cease Date DETE Start Date  \\\n",
      "0   1             Ill Health Retirement    08/2012            1984   \n",
      "1   2  Voluntary Early Retirement (VER)    08/2012      Not Stated   \n",
      "2   3  Voluntary Early Retirement (VER)    05/2012            2011   \n",
      "3   4         Resignation-Other reasons    05/2012            2005   \n",
      "4   5                    Age Retirement    05/2012            1970   \n",
      "\n",
      "  Role Start Date                                      Position  \\\n",
      "0            2004                                Public Servant   \n",
      "1      Not Stated                                Public Servant   \n",
      "2            2011                               Schools Officer   \n",
      "3            2006                                       Teacher   \n",
      "4            1989  Head of Curriculum/Head of Special Education   \n",
      "\n",
      "  Classification              Region                      Business Unit  \\\n",
      "0        A01-A04      Central Office  Corporate Strategy and Peformance   \n",
      "1        AO5-AO7      Central Office  Corporate Strategy and Peformance   \n",
      "2            NaN      Central Office               Education Queensland   \n",
      "3        Primary  Central Queensland                                NaN   \n",
      "4            NaN          South East                                NaN   \n",
      "\n",
      "     Employment Status  ...   Kept informed  Wellness programs  \\\n",
      "0  Permanent Full-time  ...               N                  N   \n",
      "1  Permanent Full-time  ...               N                  N   \n",
      "2  Permanent Full-time  ...               N                  N   \n",
      "3  Permanent Full-time  ...               A                  N   \n",
      "4  Permanent Full-time  ...               N                  A   \n",
      "\n",
      "   Health & Safety  Gender          Age  Aboriginal  Torres Strait  South Sea  \\\n",
      "0                N    Male        56-60         NaN            NaN        NaN   \n",
      "1                N    Male        56-60         NaN            NaN        NaN   \n",
      "2                N    Male  61 or older         NaN            NaN        NaN   \n",
      "3                A  Female        36-40         NaN            NaN        NaN   \n",
      "4                M  Female  61 or older         NaN            NaN        NaN   \n",
      "\n",
      "   Disability  NESB  \n",
      "0         NaN   Yes  \n",
      "1         NaN   NaN  \n",
      "2         NaN   NaN  \n",
      "3         NaN   NaN  \n",
      "4         NaN   NaN  \n",
      "\n",
      "[5 rows x 56 columns]\n",
      "\n",
      "TAFE SURVEY DATAFRAME INFO\n",
      "<class 'pandas.core.frame.DataFrame'>\n",
      "RangeIndex: 702 entries, 0 to 701\n",
      "Data columns (total 72 columns):\n",
      "Record ID                                                                                                                                                        702 non-null float64\n",
      "Institute                                                                                                                                                        702 non-null object\n",
      "WorkArea                                                                                                                                                         702 non-null object\n",
      "CESSATION YEAR                                                                                                                                                   695 non-null float64\n",
      "Reason for ceasing employment                                                                                                                                    701 non-null object\n",
      "Contributing Factors. Career Move - Public Sector                                                                                                                437 non-null object\n",
      "Contributing Factors. Career Move - Private Sector                                                                                                               437 non-null object\n",
      "Contributing Factors. Career Move - Self-employment                                                                                                              437 non-null object\n",
      "Contributing Factors. Ill Health                                                                                                                                 437 non-null object\n",
      "Contributing Factors. Maternity/Family                                                                                                                           437 non-null object\n",
      "Contributing Factors. Dissatisfaction                                                                                                                            437 non-null object\n",
      "Contributing Factors. Job Dissatisfaction                                                                                                                        437 non-null object\n",
      "Contributing Factors. Interpersonal Conflict                                                                                                                     437 non-null object\n",
      "Contributing Factors. Study                                                                                                                                      437 non-null object\n",
      "Contributing Factors. Travel                                                                                                                                     437 non-null object\n",
      "Contributing Factors. Other                                                                                                                                      437 non-null object\n",
      "Contributing Factors. NONE                                                                                                                                       437 non-null object\n",
      "Main Factor. Which of these was the main factor for leaving?                                                                                                     113 non-null object\n",
      "InstituteViews. Topic:1. I feel the senior leadership had a clear vision and direction                                                                           608 non-null object\n",
      "InstituteViews. Topic:2. I was given access to skills training to help me do my job better                                                                       613 non-null object\n",
      "InstituteViews. Topic:3. I was given adequate opportunities for personal development                                                                             610 non-null object\n",
      "InstituteViews. Topic:4. I was given adequate opportunities for promotion within %Institute]Q25LBL%                                                              608 non-null object\n",
      "InstituteViews. Topic:5. I felt the salary for the job was right for the responsibilities I had                                                                  615 non-null object\n",
      "InstituteViews. Topic:6. The organisation recognised when staff did good work                                                                                    607 non-null object\n",
      "InstituteViews. Topic:7. Management was generally supportive of me                                                                                               614 non-null object\n",
      "InstituteViews. Topic:8. Management was generally supportive of my team                                                                                          608 non-null object\n",
      "InstituteViews. Topic:9. I was kept informed of the changes in the organisation which would affect me                                                            610 non-null object\n",
      "InstituteViews. Topic:10. Staff morale was positive within the Institute                                                                                         602 non-null object\n",
      "InstituteViews. Topic:11. If I had a workplace issue it was dealt with quickly                                                                                   601 non-null object\n",
      "InstituteViews. Topic:12. If I had a workplace issue it was dealt with efficiently                                                                               597 non-null object\n",
      "InstituteViews. Topic:13. If I had a workplace issue it was dealt with discreetly                                                                                601 non-null object\n",
      "WorkUnitViews. Topic:14. I was satisfied with the quality of the management and supervision within my work unit                                                  609 non-null object\n",
      "WorkUnitViews. Topic:15. I worked well with my colleagues                                                                                                        605 non-null object\n",
      "WorkUnitViews. Topic:16. My job was challenging and interesting                                                                                                  607 non-null object\n",
      "WorkUnitViews. Topic:17. I was encouraged to use my initiative in the course of my work                                                                          610 non-null object\n",
      "WorkUnitViews. Topic:18. I had sufficient contact with other people in my job                                                                                    613 non-null object\n",
      "WorkUnitViews. Topic:19. I was given adequate support and co-operation by my peers to enable me to do my job                                                     609 non-null object\n",
      "WorkUnitViews. Topic:20. I was able to use the full range of my skills in my job                                                                                 609 non-null object\n",
      "WorkUnitViews. Topic:21. I was able to use the full range of my abilities in my job. ; Category:Level of Agreement; Question:YOUR VIEWS ABOUT YOUR WORK UNIT]    608 non-null object\n",
      "WorkUnitViews. Topic:22. I was able to use the full range of my knowledge in my job                                                                              608 non-null object\n",
      "WorkUnitViews. Topic:23. My job provided sufficient variety                                                                                                      611 non-null object\n",
      "WorkUnitViews. Topic:24. I was able to cope with the level of stress and pressure in my job                                                                      610 non-null object\n",
      "WorkUnitViews. Topic:25. My job allowed me to balance the demands of work and family to my satisfaction                                                          611 non-null object\n",
      "WorkUnitViews. Topic:26. My supervisor gave me adequate personal recognition and feedback on my performance                                                      606 non-null object\n",
      "WorkUnitViews. Topic:27. My working environment was satisfactory e.g. sufficient space, good lighting, suitable seating and working area                         610 non-null object\n",
      "WorkUnitViews. Topic:28. I was given the opportunity to mentor and coach others in order for me to pass on my skills and knowledge prior to my cessation date    609 non-null object\n",
      "WorkUnitViews. Topic:29. There was adequate communication between staff in my unit                                                                               603 non-null object\n",
      "WorkUnitViews. Topic:30. Staff morale was positive within my work unit                                                                                           606 non-null object\n",
      "Induction. Did you undertake Workplace Induction?                                                                                                                619 non-null object\n",
      "InductionInfo. Topic:Did you undertake a Corporate Induction?                                                                                                    432 non-null object\n",
      "InductionInfo. Topic:Did you undertake a Institute Induction?                                                                                                    483 non-null object\n",
      "InductionInfo. Topic: Did you undertake Team Induction?                                                                                                          440 non-null object\n",
      "InductionInfo. Face to Face Topic:Did you undertake a Corporate Induction; Category:How it was conducted?                                                        555 non-null object\n",
      "InductionInfo. On-line Topic:Did you undertake a Corporate Induction; Category:How it was conducted?                                                             555 non-null object\n",
      "InductionInfo. Induction Manual Topic:Did you undertake a Corporate Induction?                                                                                   555 non-null object\n",
      "InductionInfo. Face to Face Topic:Did you undertake a Institute Induction?                                                                                       530 non-null object\n",
      "InductionInfo. On-line Topic:Did you undertake a Institute Induction?                                                                                            555 non-null object\n",
      "InductionInfo. Induction Manual Topic:Did you undertake a Institute Induction?                                                                                   553 non-null object\n",
      "InductionInfo. Face to Face Topic: Did you undertake Team Induction; Category?                                                                                   555 non-null object\n",
      "InductionInfo. On-line Topic: Did you undertake Team Induction?process you undertook and how it was conducted.]                                                  555 non-null object\n",
      "InductionInfo. Induction Manual Topic: Did you undertake Team Induction?                                                                                         555 non-null object\n",
      "Workplace. Topic:Did you and your Manager develop a Performance and Professional Development Plan (PPDP)?                                                        608 non-null object\n",
      "Workplace. Topic:Does your workplace promote a work culture free from all forms of unlawful discrimination?                                                      594 non-null object\n",
      "Workplace. Topic:Does your workplace promote and practice the principles of employment equity?                                                                   587 non-null object\n",
      "Workplace. Topic:Does your workplace value the diversity of its employees?                                                                                       586 non-null object\n",
      "Workplace. Topic:Would you recommend the Institute as an employer to others?                                                                                     581 non-null object\n",
      "Gender. What is your Gender?                                                                                                                                     596 non-null object\n",
      "CurrentAge. Current Age                                                                                                                                          596 non-null object\n",
      "Employment Type. Employment Type                                                                                                                                 596 non-null object\n",
      "Classification. Classification                                                                                                                                   596 non-null object\n",
      "LengthofServiceOverall. Overall Length of Service at Institute (in years)                                                                                        596 non-null object\n",
      "LengthofServiceCurrent. Length of Service at current workplace (in years)                                                                                        596 non-null object\n",
      "dtypes: float64(2), object(70)\n",
      "memory usage: 395.0+ KB\n",
      "None\n",
      "\n",
      "TAFE SURVEY DATAFRAME 5 FIRST ROWS\n",
      "      Record ID                              Institute  \\\n",
      "0  6.341330e+17  Southern Queensland Institute of TAFE   \n",
      "1  6.341337e+17            Mount Isa Institute of TAFE   \n",
      "2  6.341388e+17            Mount Isa Institute of TAFE   \n",
      "3  6.341399e+17            Mount Isa Institute of TAFE   \n",
      "4  6.341466e+17  Southern Queensland Institute of TAFE   \n",
      "\n",
      "                   WorkArea  CESSATION YEAR Reason for ceasing employment  \\\n",
      "0  Non-Delivery (corporate)          2010.0              Contract Expired   \n",
      "1  Non-Delivery (corporate)          2010.0                    Retirement   \n",
      "2       Delivery (teaching)          2010.0                    Retirement   \n",
      "3  Non-Delivery (corporate)          2010.0                   Resignation   \n",
      "4       Delivery (teaching)          2010.0                   Resignation   \n",
      "\n",
      "  Contributing Factors. Career Move - Public Sector   \\\n",
      "0                                                NaN   \n",
      "1                                                  -   \n",
      "2                                                  -   \n",
      "3                                                  -   \n",
      "4                                                  -   \n",
      "\n",
      "  Contributing Factors. Career Move - Private Sector   \\\n",
      "0                                                NaN    \n",
      "1                                                  -    \n",
      "2                                                  -    \n",
      "3                                                  -    \n",
      "4                       Career Move - Private Sector    \n",
      "\n",
      "  Contributing Factors. Career Move - Self-employment  \\\n",
      "0                                                NaN    \n",
      "1                                                  -    \n",
      "2                                                  -    \n",
      "3                                                  -    \n",
      "4                                                  -    \n",
      "\n",
      "  Contributing Factors. Ill Health Contributing Factors. Maternity/Family  \\\n",
      "0                              NaN                                    NaN   \n",
      "1                                -                                      -   \n",
      "2                                -                                      -   \n",
      "3                                -                                      -   \n",
      "4                                -                                      -   \n",
      "\n",
      "                                     ...                                     \\\n",
      "0                                    ...                                      \n",
      "1                                    ...                                      \n",
      "2                                    ...                                      \n",
      "3                                    ...                                      \n",
      "4                                    ...                                      \n",
      "\n",
      "  Workplace. Topic:Does your workplace promote a work culture free from all forms of unlawful discrimination?  \\\n",
      "0                                                Yes                                                            \n",
      "1                                                Yes                                                            \n",
      "2                                                Yes                                                            \n",
      "3                                                Yes                                                            \n",
      "4                                                Yes                                                            \n",
      "\n",
      "  Workplace. Topic:Does your workplace promote and practice the principles of employment equity?  \\\n",
      "0                                                Yes                                               \n",
      "1                                                Yes                                               \n",
      "2                                                Yes                                               \n",
      "3                                                Yes                                               \n",
      "4                                                Yes                                               \n",
      "\n",
      "  Workplace. Topic:Does your workplace value the diversity of its employees?  \\\n",
      "0                                                Yes                           \n",
      "1                                                Yes                           \n",
      "2                                                Yes                           \n",
      "3                                                Yes                           \n",
      "4                                                Yes                           \n",
      "\n",
      "  Workplace. Topic:Would you recommend the Institute as an employer to others?  \\\n",
      "0                                                Yes                             \n",
      "1                                                Yes                             \n",
      "2                                                Yes                             \n",
      "3                                                Yes                             \n",
      "4                                                Yes                             \n",
      "\n",
      "  Gender. What is your Gender? CurrentAge. Current Age  \\\n",
      "0                       Female                  26  30   \n",
      "1                          NaN                     NaN   \n",
      "2                          NaN                     NaN   \n",
      "3                          NaN                     NaN   \n",
      "4                         Male                  41  45   \n",
      "\n",
      "  Employment Type. Employment Type Classification. Classification  \\\n",
      "0              Temporary Full-time            Administration (AO)   \n",
      "1                              NaN                            NaN   \n",
      "2                              NaN                            NaN   \n",
      "3                              NaN                            NaN   \n",
      "4              Permanent Full-time        Teacher (including LVT)   \n",
      "\n",
      "  LengthofServiceOverall. Overall Length of Service at Institute (in years)  \\\n",
      "0                                                1-2                          \n",
      "1                                                NaN                          \n",
      "2                                                NaN                          \n",
      "3                                                NaN                          \n",
      "4                                                3-4                          \n",
      "\n",
      "  LengthofServiceCurrent. Length of Service at current workplace (in years)  \n",
      "0                                                1-2                         \n",
      "1                                                NaN                         \n",
      "2                                                NaN                         \n",
      "3                                                NaN                         \n",
      "4                                                3-4                         \n",
      "\n",
      "[5 rows x 72 columns]\n"
     ]
    }
   ],
   "source": [
    "import numpy as np\n",
    "import pandas as pd\n",
    "\n",
    "dete_survey = pd.read_csv('dete_survey.csv')\n",
    "tafe_survey = pd.read_csv('tafe_survey.csv')\n",
    "\n",
    "print(\"DETE survey dataframe info\".upper())\n",
    "print(dete_survey.info())\n",
    "print(\"\")\n",
    "print(\"DETE survey dataframe 5 first rows\".upper())\n",
    "print(dete_survey.head())\n",
    "print(\"\")\n",
    "print(\"TAFE survey dataframe info\".upper())\n",
    "print(tafe_survey.info())\n",
    "print(\"\")\n",
    "print(\"TAFE survey dataframe 5 first rows\".upper())\n",
    "print(tafe_survey.head())"
   ]
  },
  {
   "cell_type": "markdown",
   "metadata": {},
   "source": [
    "We can see that there are a lot of imformation in both data sets. The DETE survey has 822 entries with 56 columns each. The TAFE survey has 702 entries with 72 columns. The columns can be separated in mainly two categories such as factors (informations about the employees) and answers to the survey. Now, we'll take a quick look at the missing data."
   ]
  },
  {
   "cell_type": "code",
   "execution_count": 2,
   "metadata": {
    "collapsed": false
   },
   "outputs": [
    {
     "name": "stdout",
     "output_type": "stream",
     "text": [
      "Missing values for each column in the DETE survey\n",
      "ID                                       0\n",
      "SeparationType                           0\n",
      "Cease Date                               0\n",
      "DETE Start Date                          0\n",
      "Role Start Date                          0\n",
      "Position                                 5\n",
      "Classification                         367\n",
      "Region                                   0\n",
      "Business Unit                          696\n",
      "Employment Status                        5\n",
      "Career move to public sector             0\n",
      "Career move to private sector            0\n",
      "Interpersonal conflicts                  0\n",
      "Job dissatisfaction                      0\n",
      "Dissatisfaction with the department      0\n",
      "Physical work environment                0\n",
      "Lack of recognition                      0\n",
      "Lack of job security                     0\n",
      "Work location                            0\n",
      "Employment conditions                    0\n",
      "Maternity/family                         0\n",
      "Relocation                               0\n",
      "Study/Travel                             0\n",
      "Ill Health                               0\n",
      "Traumatic incident                       0\n",
      "Work life balance                        0\n",
      "Workload                                 0\n",
      "None of the above                        0\n",
      "Professional Development                14\n",
      "Opportunities for promotion             87\n",
      "Staff morale                             6\n",
      "Workplace issue                         34\n",
      "Physical environment                     5\n",
      "Worklife balance                         7\n",
      "Stress and pressure support             12\n",
      "Performance of supervisor                9\n",
      "Peer support                            10\n",
      "Initiative                               9\n",
      "Skills                                  11\n",
      "Coach                                   55\n",
      "Career Aspirations                      76\n",
      "Feedback                                30\n",
      "Further PD                              54\n",
      "Communication                            8\n",
      "My say                                  10\n",
      "Information                              6\n",
      "Kept informed                            9\n",
      "Wellness programs                       56\n",
      "Health & Safety                         29\n",
      "Gender                                  24\n",
      "Age                                     11\n",
      "Aboriginal                             806\n",
      "Torres Strait                          819\n",
      "South Sea                              815\n",
      "Disability                             799\n",
      "NESB                                   790\n",
      "dtype: int64\n",
      "Missing values for each column in the TAFE survey\n",
      "Record ID                                                                                                                                                          0\n",
      "Institute                                                                                                                                                          0\n",
      "WorkArea                                                                                                                                                           0\n",
      "CESSATION YEAR                                                                                                                                                     7\n",
      "Reason for ceasing employment                                                                                                                                      1\n",
      "Contributing Factors. Career Move - Public Sector                                                                                                                265\n",
      "Contributing Factors. Career Move - Private Sector                                                                                                               265\n",
      "Contributing Factors. Career Move - Self-employment                                                                                                              265\n",
      "Contributing Factors. Ill Health                                                                                                                                 265\n",
      "Contributing Factors. Maternity/Family                                                                                                                           265\n",
      "Contributing Factors. Dissatisfaction                                                                                                                            265\n",
      "Contributing Factors. Job Dissatisfaction                                                                                                                        265\n",
      "Contributing Factors. Interpersonal Conflict                                                                                                                     265\n",
      "Contributing Factors. Study                                                                                                                                      265\n",
      "Contributing Factors. Travel                                                                                                                                     265\n",
      "Contributing Factors. Other                                                                                                                                      265\n",
      "Contributing Factors. NONE                                                                                                                                       265\n",
      "Main Factor. Which of these was the main factor for leaving?                                                                                                     589\n",
      "InstituteViews. Topic:1. I feel the senior leadership had a clear vision and direction                                                                            94\n",
      "InstituteViews. Topic:2. I was given access to skills training to help me do my job better                                                                        89\n",
      "InstituteViews. Topic:3. I was given adequate opportunities for personal development                                                                              92\n",
      "InstituteViews. Topic:4. I was given adequate opportunities for promotion within %Institute]Q25LBL%                                                               94\n",
      "InstituteViews. Topic:5. I felt the salary for the job was right for the responsibilities I had                                                                   87\n",
      "InstituteViews. Topic:6. The organisation recognised when staff did good work                                                                                     95\n",
      "InstituteViews. Topic:7. Management was generally supportive of me                                                                                                88\n",
      "InstituteViews. Topic:8. Management was generally supportive of my team                                                                                           94\n",
      "InstituteViews. Topic:9. I was kept informed of the changes in the organisation which would affect me                                                             92\n",
      "InstituteViews. Topic:10. Staff morale was positive within the Institute                                                                                         100\n",
      "InstituteViews. Topic:11. If I had a workplace issue it was dealt with quickly                                                                                   101\n",
      "InstituteViews. Topic:12. If I had a workplace issue it was dealt with efficiently                                                                               105\n",
      "                                                                                                                                                                ... \n",
      "WorkUnitViews. Topic:25. My job allowed me to balance the demands of work and family to my satisfaction                                                           91\n",
      "WorkUnitViews. Topic:26. My supervisor gave me adequate personal recognition and feedback on my performance                                                       96\n",
      "WorkUnitViews. Topic:27. My working environment was satisfactory e.g. sufficient space, good lighting, suitable seating and working area                          92\n",
      "WorkUnitViews. Topic:28. I was given the opportunity to mentor and coach others in order for me to pass on my skills and knowledge prior to my cessation date     93\n",
      "WorkUnitViews. Topic:29. There was adequate communication between staff in my unit                                                                                99\n",
      "WorkUnitViews. Topic:30. Staff morale was positive within my work unit                                                                                            96\n",
      "Induction. Did you undertake Workplace Induction?                                                                                                                 83\n",
      "InductionInfo. Topic:Did you undertake a Corporate Induction?                                                                                                    270\n",
      "InductionInfo. Topic:Did you undertake a Institute Induction?                                                                                                    219\n",
      "InductionInfo. Topic: Did you undertake Team Induction?                                                                                                          262\n",
      "InductionInfo. Face to Face Topic:Did you undertake a Corporate Induction; Category:How it was conducted?                                                        147\n",
      "InductionInfo. On-line Topic:Did you undertake a Corporate Induction; Category:How it was conducted?                                                             147\n",
      "InductionInfo. Induction Manual Topic:Did you undertake a Corporate Induction?                                                                                   147\n",
      "InductionInfo. Face to Face Topic:Did you undertake a Institute Induction?                                                                                       172\n",
      "InductionInfo. On-line Topic:Did you undertake a Institute Induction?                                                                                            147\n",
      "InductionInfo. Induction Manual Topic:Did you undertake a Institute Induction?                                                                                   149\n",
      "InductionInfo. Face to Face Topic: Did you undertake Team Induction; Category?                                                                                   147\n",
      "InductionInfo. On-line Topic: Did you undertake Team Induction?process you undertook and how it was conducted.]                                                  147\n",
      "InductionInfo. Induction Manual Topic: Did you undertake Team Induction?                                                                                         147\n",
      "Workplace. Topic:Did you and your Manager develop a Performance and Professional Development Plan (PPDP)?                                                         94\n",
      "Workplace. Topic:Does your workplace promote a work culture free from all forms of unlawful discrimination?                                                      108\n",
      "Workplace. Topic:Does your workplace promote and practice the principles of employment equity?                                                                   115\n",
      "Workplace. Topic:Does your workplace value the diversity of its employees?                                                                                       116\n",
      "Workplace. Topic:Would you recommend the Institute as an employer to others?                                                                                     121\n",
      "Gender. What is your Gender?                                                                                                                                     106\n",
      "CurrentAge. Current Age                                                                                                                                          106\n",
      "Employment Type. Employment Type                                                                                                                                 106\n",
      "Classification. Classification                                                                                                                                   106\n",
      "LengthofServiceOverall. Overall Length of Service at Institute (in years)                                                                                        106\n",
      "LengthofServiceCurrent. Length of Service at current workplace (in years)                                                                                        106\n",
      "Length: 72, dtype: int64\n"
     ]
    }
   ],
   "source": [
    "print(\"Missing values for each column in the DETE survey\")\n",
    "print(dete_survey.isnull().sum())\n",
    "print(\"Missing values for each column in the TAFE survey\")\n",
    "print(tafe_survey.isnull().sum())"
   ]
  },
  {
   "cell_type": "markdown",
   "metadata": {},
   "source": [
    "Each data set has many missing values. We'll have to understand the meaning od these missing values and elaborate a strategy to tackle them. The DETE survey has has few missing values in quesitons about the motives for leaving but has a lot of missing data about the information on the employees. The TAFE survey has a relatively constant number of missing values throughout the columns of the dataset so we might explore if some entries (rows) do not contain any information and delete them."
   ]
  },
  {
   "cell_type": "markdown",
   "metadata": {},
   "source": [
    "<h3>Step 2 - Cleaning missing values and droping useless data</h3>\n",
    "\n",
    "The DETE survey dataframe contains \"Not Stated\" values which can be considered as null values. We'll read the csv file again this time automatically changing these values for NaN."
   ]
  },
  {
   "cell_type": "code",
   "execution_count": 3,
   "metadata": {
    "collapsed": false
   },
   "outputs": [
    {
     "name": "stdout",
     "output_type": "stream",
     "text": [
      "   ID                    SeparationType Cease Date  DETE Start Date  \\\n",
      "0   1             Ill Health Retirement    08/2012           1984.0   \n",
      "1   2  Voluntary Early Retirement (VER)    08/2012              NaN   \n",
      "2   3  Voluntary Early Retirement (VER)    05/2012           2011.0   \n",
      "3   4         Resignation-Other reasons    05/2012           2005.0   \n",
      "4   5                    Age Retirement    05/2012           1970.0   \n",
      "\n",
      "   Role Start Date                                      Position  \\\n",
      "0           2004.0                                Public Servant   \n",
      "1              NaN                                Public Servant   \n",
      "2           2011.0                               Schools Officer   \n",
      "3           2006.0                                       Teacher   \n",
      "4           1989.0  Head of Curriculum/Head of Special Education   \n",
      "\n",
      "  Classification              Region                      Business Unit  \\\n",
      "0        A01-A04      Central Office  Corporate Strategy and Peformance   \n",
      "1        AO5-AO7      Central Office  Corporate Strategy and Peformance   \n",
      "2            NaN      Central Office               Education Queensland   \n",
      "3        Primary  Central Queensland                                NaN   \n",
      "4            NaN          South East                                NaN   \n",
      "\n",
      "     Employment Status  ...   Kept informed  Wellness programs  \\\n",
      "0  Permanent Full-time  ...               N                  N   \n",
      "1  Permanent Full-time  ...               N                  N   \n",
      "2  Permanent Full-time  ...               N                  N   \n",
      "3  Permanent Full-time  ...               A                  N   \n",
      "4  Permanent Full-time  ...               N                  A   \n",
      "\n",
      "   Health & Safety  Gender          Age  Aboriginal  Torres Strait  South Sea  \\\n",
      "0                N    Male        56-60         NaN            NaN        NaN   \n",
      "1                N    Male        56-60         NaN            NaN        NaN   \n",
      "2                N    Male  61 or older         NaN            NaN        NaN   \n",
      "3                A  Female        36-40         NaN            NaN        NaN   \n",
      "4                M  Female  61 or older         NaN            NaN        NaN   \n",
      "\n",
      "   Disability  NESB  \n",
      "0         NaN   Yes  \n",
      "1         NaN   NaN  \n",
      "2         NaN   NaN  \n",
      "3         NaN   NaN  \n",
      "4         NaN   NaN  \n",
      "\n",
      "[5 rows x 56 columns]\n",
      "ALL COLUMNS FROM THE DETE DATA SET\n",
      "['ID' 'SeparationType' 'Cease Date' 'DETE Start Date' 'Role Start Date'\n",
      " 'Position' 'Classification' 'Region' 'Business Unit' 'Employment Status'\n",
      " 'Career move to public sector' 'Career move to private sector'\n",
      " 'Interpersonal conflicts' 'Job dissatisfaction'\n",
      " 'Dissatisfaction with the department' 'Physical work environment'\n",
      " 'Lack of recognition' 'Lack of job security' 'Work location'\n",
      " 'Employment conditions' 'Maternity/family' 'Relocation' 'Study/Travel'\n",
      " 'Ill Health' 'Traumatic incident' 'Work life balance' 'Workload'\n",
      " 'None of the above' 'Professional Development'\n",
      " 'Opportunities for promotion' 'Staff morale' 'Workplace issue'\n",
      " 'Physical environment' 'Worklife balance' 'Stress and pressure support'\n",
      " 'Performance of supervisor' 'Peer support' 'Initiative' 'Skills' 'Coach'\n",
      " 'Career Aspirations' 'Feedback' 'Further PD' 'Communication' 'My say'\n",
      " 'Information' 'Kept informed' 'Wellness programs' 'Health & Safety'\n",
      " 'Gender' 'Age' 'Aboriginal' 'Torres Strait' 'South Sea' 'Disability'\n",
      " 'NESB']\n"
     ]
    }
   ],
   "source": [
    "dete_survey = pd.read_csv('dete_survey.csv', na_values='Not Stated')\n",
    "print(dete_survey.head())\n",
    "print(\"ALL COLUMNS FROM THE DETE DATA SET\")\n",
    "print(dete_survey.columns.values)"
   ]
  },
  {
   "cell_type": "markdown",
   "metadata": {},
   "source": [
    "We'll delete all the column that are useless (the ones with A/N answer)."
   ]
  },
  {
   "cell_type": "code",
   "execution_count": 4,
   "metadata": {
    "collapsed": false
   },
   "outputs": [
    {
     "name": "stdout",
     "output_type": "stream",
     "text": [
      "ALL COLUMNS FROM THE UPDATED DETE DATA SET\n",
      "['ID' 'SeparationType' 'Cease Date' 'DETE Start Date' 'Role Start Date'\n",
      " 'Position' 'Classification' 'Region' 'Business Unit' 'Employment Status'\n",
      " 'Career move to public sector' 'Career move to private sector'\n",
      " 'Interpersonal conflicts' 'Job dissatisfaction'\n",
      " 'Dissatisfaction with the department' 'Physical work environment'\n",
      " 'Lack of recognition' 'Lack of job security' 'Work location'\n",
      " 'Employment conditions' 'Maternity/family' 'Relocation' 'Study/Travel'\n",
      " 'Ill Health' 'Traumatic incident' 'Work life balance' 'Workload'\n",
      " 'None of the above' 'Gender' 'Age' 'Aboriginal' 'Torres Strait'\n",
      " 'South Sea' 'Disability' 'NESB']\n"
     ]
    }
   ],
   "source": [
    "dete_survey_updated = dete_survey.drop(dete_survey.columns[28:49], axis=1)\n",
    "print(\"ALL COLUMNS FROM THE UPDATED DETE DATA SET\")\n",
    "print(dete_survey_updated.columns.values)"
   ]
  },
  {
   "cell_type": "markdown",
   "metadata": {},
   "source": [
    "We'll do the columns drop with the TAFE data as well."
   ]
  },
  {
   "cell_type": "code",
   "execution_count": 5,
   "metadata": {
    "collapsed": false
   },
   "outputs": [
    {
     "name": "stdout",
     "output_type": "stream",
     "text": [
      "ALL COLUMNS FROM THE TAFE DATA SET\n",
      "['Record ID' 'Institute' 'WorkArea' 'CESSATION YEAR'\n",
      " 'Reason for ceasing employment'\n",
      " 'Contributing Factors. Career Move - Public Sector '\n",
      " 'Contributing Factors. Career Move - Private Sector '\n",
      " 'Contributing Factors. Career Move - Self-employment'\n",
      " 'Contributing Factors. Ill Health'\n",
      " 'Contributing Factors. Maternity/Family'\n",
      " 'Contributing Factors. Dissatisfaction'\n",
      " 'Contributing Factors. Job Dissatisfaction'\n",
      " 'Contributing Factors. Interpersonal Conflict'\n",
      " 'Contributing Factors. Study' 'Contributing Factors. Travel'\n",
      " 'Contributing Factors. Other' 'Contributing Factors. NONE'\n",
      " 'Main Factor. Which of these was the main factor for leaving?'\n",
      " 'InstituteViews. Topic:1. I feel the senior leadership had a clear vision and direction'\n",
      " 'InstituteViews. Topic:2. I was given access to skills training to help me do my job better'\n",
      " 'InstituteViews. Topic:3. I was given adequate opportunities for personal development'\n",
      " 'InstituteViews. Topic:4. I was given adequate opportunities for promotion within %Institute]Q25LBL%'\n",
      " 'InstituteViews. Topic:5. I felt the salary for the job was right for the responsibilities I had'\n",
      " 'InstituteViews. Topic:6. The organisation recognised when staff did good work'\n",
      " 'InstituteViews. Topic:7. Management was generally supportive of me'\n",
      " 'InstituteViews. Topic:8. Management was generally supportive of my team'\n",
      " 'InstituteViews. Topic:9. I was kept informed of the changes in the organisation which would affect me'\n",
      " 'InstituteViews. Topic:10. Staff morale was positive within the Institute'\n",
      " 'InstituteViews. Topic:11. If I had a workplace issue it was dealt with quickly'\n",
      " 'InstituteViews. Topic:12. If I had a workplace issue it was dealt with efficiently'\n",
      " 'InstituteViews. Topic:13. If I had a workplace issue it was dealt with discreetly'\n",
      " 'WorkUnitViews. Topic:14. I was satisfied with the quality of the management and supervision within my work unit'\n",
      " 'WorkUnitViews. Topic:15. I worked well with my colleagues'\n",
      " 'WorkUnitViews. Topic:16. My job was challenging and interesting'\n",
      " 'WorkUnitViews. Topic:17. I was encouraged to use my initiative in the course of my work'\n",
      " 'WorkUnitViews. Topic:18. I had sufficient contact with other people in my job'\n",
      " 'WorkUnitViews. Topic:19. I was given adequate support and co-operation by my peers to enable me to do my job'\n",
      " 'WorkUnitViews. Topic:20. I was able to use the full range of my skills in my job'\n",
      " 'WorkUnitViews. Topic:21. I was able to use the full range of my abilities in my job. ; Category:Level of Agreement; Question:YOUR VIEWS ABOUT YOUR WORK UNIT]'\n",
      " 'WorkUnitViews. Topic:22. I was able to use the full range of my knowledge in my job'\n",
      " 'WorkUnitViews. Topic:23. My job provided sufficient variety'\n",
      " 'WorkUnitViews. Topic:24. I was able to cope with the level of stress and pressure in my job'\n",
      " 'WorkUnitViews. Topic:25. My job allowed me to balance the demands of work and family to my satisfaction'\n",
      " 'WorkUnitViews. Topic:26. My supervisor gave me adequate personal recognition and feedback on my performance'\n",
      " 'WorkUnitViews. Topic:27. My working environment was satisfactory e.g. sufficient space, good lighting, suitable seating and working area'\n",
      " 'WorkUnitViews. Topic:28. I was given the opportunity to mentor and coach others in order for me to pass on my skills and knowledge prior to my cessation date'\n",
      " 'WorkUnitViews. Topic:29. There was adequate communication between staff in my unit'\n",
      " 'WorkUnitViews. Topic:30. Staff morale was positive within my work unit'\n",
      " 'Induction. Did you undertake Workplace Induction?'\n",
      " 'InductionInfo. Topic:Did you undertake a Corporate Induction?'\n",
      " 'InductionInfo. Topic:Did you undertake a Institute Induction?'\n",
      " 'InductionInfo. Topic: Did you undertake Team Induction?'\n",
      " 'InductionInfo. Face to Face Topic:Did you undertake a Corporate Induction; Category:How it was conducted?'\n",
      " 'InductionInfo. On-line Topic:Did you undertake a Corporate Induction; Category:How it was conducted?'\n",
      " 'InductionInfo. Induction Manual Topic:Did you undertake a Corporate Induction?'\n",
      " 'InductionInfo. Face to Face Topic:Did you undertake a Institute Induction?'\n",
      " 'InductionInfo. On-line Topic:Did you undertake a Institute Induction?'\n",
      " 'InductionInfo. Induction Manual Topic:Did you undertake a Institute Induction?'\n",
      " 'InductionInfo. Face to Face Topic: Did you undertake Team Induction; Category?'\n",
      " 'InductionInfo. On-line Topic: Did you undertake Team Induction?process you undertook and how it was conducted.]'\n",
      " 'InductionInfo. Induction Manual Topic: Did you undertake Team Induction?'\n",
      " 'Workplace. Topic:Did you and your Manager develop a Performance and Professional Development Plan (PPDP)?'\n",
      " 'Workplace. Topic:Does your workplace promote a work culture free from all forms of unlawful discrimination?'\n",
      " 'Workplace. Topic:Does your workplace promote and practice the principles of employment equity?'\n",
      " 'Workplace. Topic:Does your workplace value the diversity of its employees?'\n",
      " 'Workplace. Topic:Would you recommend the Institute as an employer to others?'\n",
      " 'Gender. What is your Gender?' 'CurrentAge. Current Age'\n",
      " 'Employment Type. Employment Type' 'Classification. Classification'\n",
      " 'LengthofServiceOverall. Overall Length of Service at Institute (in years)'\n",
      " 'LengthofServiceCurrent. Length of Service at current workplace (in years)']\n"
     ]
    }
   ],
   "source": [
    "print(\"ALL COLUMNS FROM THE TAFE DATA SET\")\n",
    "print(tafe_survey.columns.values)"
   ]
  },
  {
   "cell_type": "markdown",
   "metadata": {},
   "source": [
    "We'll remove the columns that aren't contribution factors."
   ]
  },
  {
   "cell_type": "code",
   "execution_count": 6,
   "metadata": {
    "collapsed": false
   },
   "outputs": [
    {
     "name": "stdout",
     "output_type": "stream",
     "text": [
      "ALL COLUMNS FROM THE UPDATED TAFE DATA SET\n",
      "['Record ID' 'Institute' 'WorkArea' 'CESSATION YEAR'\n",
      " 'Reason for ceasing employment'\n",
      " 'Contributing Factors. Career Move - Public Sector '\n",
      " 'Contributing Factors. Career Move - Private Sector '\n",
      " 'Contributing Factors. Career Move - Self-employment'\n",
      " 'Contributing Factors. Ill Health'\n",
      " 'Contributing Factors. Maternity/Family'\n",
      " 'Contributing Factors. Dissatisfaction'\n",
      " 'Contributing Factors. Job Dissatisfaction'\n",
      " 'Contributing Factors. Interpersonal Conflict'\n",
      " 'Contributing Factors. Study' 'Contributing Factors. Travel'\n",
      " 'Contributing Factors. Other' 'Contributing Factors. NONE'\n",
      " 'Gender. What is your Gender?' 'CurrentAge. Current Age'\n",
      " 'Employment Type. Employment Type' 'Classification. Classification'\n",
      " 'LengthofServiceOverall. Overall Length of Service at Institute (in years)'\n",
      " 'LengthofServiceCurrent. Length of Service at current workplace (in years)']\n"
     ]
    }
   ],
   "source": [
    "tafe_survey_updated = tafe_survey.drop(tafe_survey.columns[17:66], axis=1)\n",
    "print(\"ALL COLUMNS FROM THE UPDATED TAFE DATA SET\")\n",
    "print(tafe_survey_updated.columns.values)"
   ]
  },
  {
   "cell_type": "markdown",
   "metadata": {
    "collapsed": true
   },
   "source": [
    "<h3>Step 3 - Normalise column names</h3>\n",
    "\n",
    "We'll now normalise column names so we can merge and compare both dataframes later on."
   ]
  },
  {
   "cell_type": "code",
   "execution_count": 7,
   "metadata": {
    "collapsed": false
   },
   "outputs": [
    {
     "name": "stdout",
     "output_type": "stream",
     "text": [
      "Index(['id', 'separationtype', 'cease_date', 'dete_start_date',\n",
      "       'role_start_date', 'position', 'classification', 'region',\n",
      "       'business_unit', 'employment_status', 'career_move_to_public_sector',\n",
      "       'career_move_to_private_sector', 'interpersonal_conflicts',\n",
      "       'job_dissatisfaction', 'dissatisfaction_with_the_department',\n",
      "       'physical_work_environment', 'lack_of_recognition',\n",
      "       'lack_of_job_security', 'work_location', 'employment_conditions',\n",
      "       'maternity/family', 'relocation', 'study/travel', 'ill_health',\n",
      "       'traumatic_incident', 'work_life_balance', 'workload',\n",
      "       'none_of_the_above', 'gender', 'age', 'aboriginal', 'torres_strait',\n",
      "       'south_sea', 'disability', 'nesb'],\n",
      "      dtype='object')\n"
     ]
    }
   ],
   "source": [
    "dete_survey_updated.columns = dete_survey_updated.columns.str.lower().str.replace(\" \", \"_\").str.strip(\" \")\n",
    "print(dete_survey_updated.columns)"
   ]
  },
  {
   "cell_type": "code",
   "execution_count": 8,
   "metadata": {
    "collapsed": false
   },
   "outputs": [
    {
     "name": "stdout",
     "output_type": "stream",
     "text": [
      "Index(['id', 'Institute', 'WorkArea', 'cease_date', 'separationtype',\n",
      "       'Contributing Factors. Career Move - Public Sector ',\n",
      "       'Contributing Factors. Career Move - Private Sector ',\n",
      "       'Contributing Factors. Career Move - Self-employment',\n",
      "       'Contributing Factors. Ill Health',\n",
      "       'Contributing Factors. Maternity/Family',\n",
      "       'Contributing Factors. Dissatisfaction',\n",
      "       'Contributing Factors. Job Dissatisfaction',\n",
      "       'Contributing Factors. Interpersonal Conflict',\n",
      "       'Contributing Factors. Study', 'Contributing Factors. Travel',\n",
      "       'Contributing Factors. Other', 'Contributing Factors. NONE', 'gender',\n",
      "       'age', 'employment_status', 'position', 'institute_service',\n",
      "       'role_service'],\n",
      "      dtype='object')\n"
     ]
    }
   ],
   "source": [
    "tafe_column_rename = {'Record ID':'id', 'CESSATION YEAR': 'cease_date', 'Reason for ceasing employment': 'separationtype',\n",
    "                     'Gender. What is your Gender?': 'gender', 'CurrentAge. Current Age': 'age',\n",
    "                      'Employment Type. Employment Type': 'employment_status', 'Classification. Classification': 'position',\n",
    "                      'LengthofServiceOverall. Overall Length of Service at Institute (in years)': 'institute_service',\n",
    "                      'LengthofServiceCurrent. Length of Service at current workplace (in years)': 'role_service'}\n",
    "\n",
    "tafe_survey_updated = tafe_survey_updated.rename(columns=tafe_column_rename)\n",
    "print(tafe_survey_updated.columns)"
   ]
  },
  {
   "cell_type": "markdown",
   "metadata": {},
   "source": [
    "Now the columns we changed should be the same in both dataframes."
   ]
  },
  {
   "cell_type": "code",
   "execution_count": 9,
   "metadata": {
    "collapsed": false
   },
   "outputs": [
    {
     "name": "stdout",
     "output_type": "stream",
     "text": [
      "   id                    separationtype cease_date  dete_start_date  \\\n",
      "0   1             Ill Health Retirement    08/2012           1984.0   \n",
      "1   2  Voluntary Early Retirement (VER)    08/2012              NaN   \n",
      "2   3  Voluntary Early Retirement (VER)    05/2012           2011.0   \n",
      "3   4         Resignation-Other reasons    05/2012           2005.0   \n",
      "4   5                    Age Retirement    05/2012           1970.0   \n",
      "\n",
      "   role_start_date                                      position  \\\n",
      "0           2004.0                                Public Servant   \n",
      "1              NaN                                Public Servant   \n",
      "2           2011.0                               Schools Officer   \n",
      "3           2006.0                                       Teacher   \n",
      "4           1989.0  Head of Curriculum/Head of Special Education   \n",
      "\n",
      "  classification              region                      business_unit  \\\n",
      "0        A01-A04      Central Office  Corporate Strategy and Peformance   \n",
      "1        AO5-AO7      Central Office  Corporate Strategy and Peformance   \n",
      "2            NaN      Central Office               Education Queensland   \n",
      "3        Primary  Central Queensland                                NaN   \n",
      "4            NaN          South East                                NaN   \n",
      "\n",
      "     employment_status  ...   work_life_balance  workload  none_of_the_above  \\\n",
      "0  Permanent Full-time  ...               False     False               True   \n",
      "1  Permanent Full-time  ...               False     False              False   \n",
      "2  Permanent Full-time  ...               False     False               True   \n",
      "3  Permanent Full-time  ...               False     False              False   \n",
      "4  Permanent Full-time  ...                True     False              False   \n",
      "\n",
      "   gender          age  aboriginal  torres_strait  south_sea  disability  nesb  \n",
      "0    Male        56-60         NaN            NaN        NaN         NaN   Yes  \n",
      "1    Male        56-60         NaN            NaN        NaN         NaN   NaN  \n",
      "2    Male  61 or older         NaN            NaN        NaN         NaN   NaN  \n",
      "3  Female        36-40         NaN            NaN        NaN         NaN   NaN  \n",
      "4  Female  61 or older         NaN            NaN        NaN         NaN   NaN  \n",
      "\n",
      "[5 rows x 35 columns]\n",
      "             id                              Institute  \\\n",
      "0  6.341330e+17  Southern Queensland Institute of TAFE   \n",
      "1  6.341337e+17            Mount Isa Institute of TAFE   \n",
      "2  6.341388e+17            Mount Isa Institute of TAFE   \n",
      "3  6.341399e+17            Mount Isa Institute of TAFE   \n",
      "4  6.341466e+17  Southern Queensland Institute of TAFE   \n",
      "\n",
      "                   WorkArea  cease_date    separationtype  \\\n",
      "0  Non-Delivery (corporate)      2010.0  Contract Expired   \n",
      "1  Non-Delivery (corporate)      2010.0        Retirement   \n",
      "2       Delivery (teaching)      2010.0        Retirement   \n",
      "3  Non-Delivery (corporate)      2010.0       Resignation   \n",
      "4       Delivery (teaching)      2010.0       Resignation   \n",
      "\n",
      "  Contributing Factors. Career Move - Public Sector   \\\n",
      "0                                                NaN   \n",
      "1                                                  -   \n",
      "2                                                  -   \n",
      "3                                                  -   \n",
      "4                                                  -   \n",
      "\n",
      "  Contributing Factors. Career Move - Private Sector   \\\n",
      "0                                                NaN    \n",
      "1                                                  -    \n",
      "2                                                  -    \n",
      "3                                                  -    \n",
      "4                       Career Move - Private Sector    \n",
      "\n",
      "  Contributing Factors. Career Move - Self-employment  \\\n",
      "0                                                NaN    \n",
      "1                                                  -    \n",
      "2                                                  -    \n",
      "3                                                  -    \n",
      "4                                                  -    \n",
      "\n",
      "  Contributing Factors. Ill Health Contributing Factors. Maternity/Family  \\\n",
      "0                              NaN                                    NaN   \n",
      "1                                -                                      -   \n",
      "2                                -                                      -   \n",
      "3                                -                                      -   \n",
      "4                                -                                      -   \n",
      "\n",
      "      ...      Contributing Factors. Study Contributing Factors. Travel  \\\n",
      "0     ...                              NaN                          NaN   \n",
      "1     ...                                -                       Travel   \n",
      "2     ...                                -                            -   \n",
      "3     ...                                -                       Travel   \n",
      "4     ...                                -                            -   \n",
      "\n",
      "  Contributing Factors. Other Contributing Factors. NONE  gender     age  \\\n",
      "0                         NaN                        NaN  Female  26  30   \n",
      "1                           -                          -     NaN     NaN   \n",
      "2                           -                       NONE     NaN     NaN   \n",
      "3                           -                          -     NaN     NaN   \n",
      "4                           -                          -    Male  41  45   \n",
      "\n",
      "     employment_status                 position institute_service role_service  \n",
      "0  Temporary Full-time      Administration (AO)               1-2          1-2  \n",
      "1                  NaN                      NaN               NaN          NaN  \n",
      "2                  NaN                      NaN               NaN          NaN  \n",
      "3                  NaN                      NaN               NaN          NaN  \n",
      "4  Permanent Full-time  Teacher (including LVT)               3-4          3-4  \n",
      "\n",
      "[5 rows x 23 columns]\n"
     ]
    }
   ],
   "source": [
    "print(dete_survey_updated.head())\n",
    "print(tafe_survey_updated.head())"
   ]
  },
  {
   "cell_type": "markdown",
   "metadata": {},
   "source": [
    "<h3>Step 4 - Drop non resignation data</h3>\n",
    "\n",
    "We want to identify motives of resignation so we'll get rid of the the entries where the employee has not resigned."
   ]
  },
  {
   "cell_type": "code",
   "execution_count": 10,
   "metadata": {
    "collapsed": false
   },
   "outputs": [
    {
     "name": "stdout",
     "output_type": "stream",
     "text": [
      "Age Retirement                          285\n",
      "Resignation-Other reasons               150\n",
      "Resignation-Other employer               91\n",
      "Resignation-Move overseas/interstate     70\n",
      "Voluntary Early Retirement (VER)         67\n",
      "Ill Health Retirement                    61\n",
      "Other                                    49\n",
      "Contract Expired                         34\n",
      "Termination                              15\n",
      "Name: separationtype, dtype: int64\n",
      "Resignation                 340\n",
      "Contract Expired            127\n",
      "Retrenchment/ Redundancy    104\n",
      "Retirement                   82\n",
      "Transfer                     25\n",
      "Termination                  23\n",
      "Name: separationtype, dtype: int64\n"
     ]
    }
   ],
   "source": [
    "print(dete_survey_updated['separationtype'].value_counts())\n",
    "print(tafe_survey_updated['separationtype'].value_counts())"
   ]
  },
  {
   "cell_type": "code",
   "execution_count": 11,
   "metadata": {
    "collapsed": false
   },
   "outputs": [
    {
     "name": "stdout",
     "output_type": "stream",
     "text": [
      "Resignation-Other reasons               150\n",
      "Resignation-Other employer               91\n",
      "Resignation-Move overseas/interstate     70\n",
      "Name: separationtype, dtype: int64\n",
      "Resignation    340\n",
      "Name: separationtype, dtype: int64\n"
     ]
    }
   ],
   "source": [
    "dete_resignations = dete_survey_updated.copy()\n",
    "dete_resignations = dete_resignations.loc[dete_resignations['separationtype'].isin(['Resignation-Other reasons','Resignation-Other employer','Resignation-Move overseas/interstate'])]\n",
    "print(dete_resignations['separationtype'].value_counts())\n",
    "tafe_resignations = tafe_survey_updated.copy()\n",
    "tafe_resignations = tafe_resignations.loc[tafe_resignations['separationtype'] == 'Resignation']\n",
    "print(tafe_resignations['separationtype'].value_counts())"
   ]
  },
  {
   "cell_type": "markdown",
   "metadata": {},
   "source": [
    "<h3>Step 5 - Uniformizing date data and remove inconsistent data</h3>\n",
    "\n",
    "We'll take a look at the cease_date and date_start_dete columns to only keep the value of the year and remove data that would'nt make sense."
   ]
  },
  {
   "cell_type": "code",
   "execution_count": 12,
   "metadata": {
    "collapsed": false
   },
   "outputs": [
    {
     "name": "stdout",
     "output_type": "stream",
     "text": [
      "2012       126\n",
      "2013        74\n",
      "01/2014     22\n",
      "12/2013     17\n",
      "06/2013     14\n",
      "09/2013     11\n",
      "07/2013      9\n",
      "11/2013      9\n",
      "10/2013      6\n",
      "08/2013      4\n",
      "05/2013      2\n",
      "05/2012      2\n",
      "09/2010      1\n",
      "07/2012      1\n",
      "07/2006      1\n",
      "2010         1\n",
      "Name: cease_date, dtype: int64\n"
     ]
    }
   ],
   "source": [
    "print(dete_resignations['cease_date'].value_counts())"
   ]
  },
  {
   "cell_type": "code",
   "execution_count": 13,
   "metadata": {
    "collapsed": false
   },
   "outputs": [
    {
     "name": "stdout",
     "output_type": "stream",
     "text": [
      "2013.0    146\n",
      "2012.0    129\n",
      "2014.0     22\n",
      "2010.0      2\n",
      "2006.0      1\n",
      "Name: cease_date, dtype: int64\n",
      "    id                        separationtype  cease_date  dete_start_date  \\\n",
      "3    4             Resignation-Other reasons      2012.0           2005.0   \n",
      "5    6             Resignation-Other reasons      2012.0           1994.0   \n",
      "8    9             Resignation-Other reasons      2012.0           2009.0   \n",
      "9   10            Resignation-Other employer      2012.0           1997.0   \n",
      "11  12  Resignation-Move overseas/interstate      2012.0           2009.0   \n",
      "\n",
      "    role_start_date          position classification                region  \\\n",
      "3            2006.0           Teacher        Primary    Central Queensland   \n",
      "5            1997.0  Guidance Officer            NaN        Central Office   \n",
      "8            2009.0           Teacher      Secondary      North Queensland   \n",
      "9            2008.0      Teacher Aide            NaN                   NaN   \n",
      "11           2009.0           Teacher      Secondary  Far North Queensland   \n",
      "\n",
      "           business_unit    employment_status  ...   work_life_balance  \\\n",
      "3                    NaN  Permanent Full-time  ...               False   \n",
      "5   Education Queensland  Permanent Full-time  ...               False   \n",
      "8                    NaN  Permanent Full-time  ...               False   \n",
      "9                    NaN  Permanent Part-time  ...               False   \n",
      "11                   NaN  Permanent Full-time  ...               False   \n",
      "\n",
      "    workload  none_of_the_above  gender    age  aboriginal  torres_strait  \\\n",
      "3      False              False  Female  36-40         NaN            NaN   \n",
      "5      False              False  Female  41-45         NaN            NaN   \n",
      "8      False              False  Female  31-35         NaN            NaN   \n",
      "9      False              False  Female  46-50         NaN            NaN   \n",
      "11     False              False    Male  31-35         NaN            NaN   \n",
      "\n",
      "    south_sea  disability  nesb  \n",
      "3         NaN         NaN   NaN  \n",
      "5         NaN         NaN   NaN  \n",
      "8         NaN         NaN   NaN  \n",
      "9         NaN         NaN   NaN  \n",
      "11        NaN         NaN   NaN  \n",
      "\n",
      "[5 rows x 35 columns]\n"
     ]
    },
    {
     "name": "stderr",
     "output_type": "stream",
     "text": [
      "/dataquest/system/env/python3/lib/python3.4/site-packages/ipykernel/__main__.py:1: FutureWarning: currently extract(expand=None) means expand=False (return Index/Series/DataFrame) but in a future version of pandas this will be changed to expand=True (return DataFrame)\n",
      "  if __name__ == '__main__':\n"
     ]
    }
   ],
   "source": [
    "dete_resignations['cease_date'] = dete_resignations['cease_date'].str.extract(r\"([2][0-9]{3})\")\n",
    "dete_resignations['cease_date'] = dete_resignations['cease_date'].astype(float)\n",
    "print(dete_resignations['cease_date'].value_counts())\n",
    "print(dete_resignations.head())"
   ]
  },
  {
   "cell_type": "code",
   "execution_count": 14,
   "metadata": {
    "collapsed": false
   },
   "outputs": [
    {
     "name": "stdout",
     "output_type": "stream",
     "text": [
      "2011.0    24\n",
      "2008.0    22\n",
      "2007.0    21\n",
      "2012.0    21\n",
      "2010.0    17\n",
      "2005.0    15\n",
      "2004.0    14\n",
      "2009.0    13\n",
      "2006.0    13\n",
      "2013.0    10\n",
      "2000.0     9\n",
      "1999.0     8\n",
      "1996.0     6\n",
      "2002.0     6\n",
      "1992.0     6\n",
      "1998.0     6\n",
      "2003.0     6\n",
      "1994.0     6\n",
      "1993.0     5\n",
      "1990.0     5\n",
      "1980.0     5\n",
      "1997.0     5\n",
      "1991.0     4\n",
      "1989.0     4\n",
      "1988.0     4\n",
      "1995.0     4\n",
      "2001.0     3\n",
      "1985.0     3\n",
      "1986.0     3\n",
      "1983.0     2\n",
      "1976.0     2\n",
      "1974.0     2\n",
      "1971.0     1\n",
      "1972.0     1\n",
      "1984.0     1\n",
      "1982.0     1\n",
      "1987.0     1\n",
      "1975.0     1\n",
      "1973.0     1\n",
      "1977.0     1\n",
      "1963.0     1\n",
      "Name: dete_start_date, dtype: int64\n",
      "2011.0    116\n",
      "2012.0     94\n",
      "2010.0     68\n",
      "2013.0     55\n",
      "2009.0      2\n",
      "Name: cease_date, dtype: int64\n"
     ]
    }
   ],
   "source": [
    "print(dete_resignations['dete_start_date'].value_counts())\n",
    "print(tafe_resignations['cease_date'].value_counts())"
   ]
  },
  {
   "cell_type": "markdown",
   "metadata": {},
   "source": [
    "The date values now seem to be uniformized and coherent."
   ]
  },
  {
   "cell_type": "markdown",
   "metadata": {
    "collapsed": true
   },
   "source": [
    "<h3>Step 6 - Creating an institute_service column in the DETE dataframe</h3>\n",
    "\n",
    "Since we want to analyze the causes of resignation in correlation with the time the employees spent in the workplace, we want to create a new column with that data in the DETE datafram where it is not found acutally."
   ]
  },
  {
   "cell_type": "code",
   "execution_count": 15,
   "metadata": {
    "collapsed": false
   },
   "outputs": [
    {
     "name": "stdout",
     "output_type": "stream",
     "text": [
      "5.0     23\n",
      "1.0     22\n",
      "3.0     20\n",
      "0.0     20\n",
      "6.0     17\n",
      "4.0     16\n",
      "9.0     14\n",
      "2.0     14\n",
      "7.0     13\n",
      "13.0     8\n",
      "8.0      8\n",
      "20.0     7\n",
      "15.0     7\n",
      "10.0     6\n",
      "22.0     6\n",
      "14.0     6\n",
      "17.0     6\n",
      "12.0     6\n",
      "16.0     5\n",
      "18.0     5\n",
      "23.0     4\n",
      "11.0     4\n",
      "24.0     4\n",
      "39.0     3\n",
      "19.0     3\n",
      "21.0     3\n",
      "32.0     3\n",
      "28.0     2\n",
      "26.0     2\n",
      "25.0     2\n",
      "30.0     2\n",
      "36.0     2\n",
      "29.0     1\n",
      "33.0     1\n",
      "42.0     1\n",
      "27.0     1\n",
      "41.0     1\n",
      "35.0     1\n",
      "38.0     1\n",
      "34.0     1\n",
      "49.0     1\n",
      "31.0     1\n",
      "Name: institute_service, dtype: int64\n"
     ]
    }
   ],
   "source": [
    "dete_resignations['institute_service'] = dete_resignations['cease_date'] - dete_resignations['dete_start_date']\n",
    "print(dete_resignations['institute_service'].value_counts())"
   ]
  },
  {
   "cell_type": "markdown",
   "metadata": {},
   "source": [
    "<h3>Step 7 - Identifying employees who risigned because of dissactisfaction</h3>\n",
    "\n",
    "We'll work with the data to identify employees who were dissatisfied. In the TAFE data, the two columns 'Contributing Factors. Dissatisfaction' and 'Contributing Factors. Job Dissatisfaction' are associated with dissatisfication."
   ]
  },
  {
   "cell_type": "code",
   "execution_count": 16,
   "metadata": {
    "collapsed": false
   },
   "outputs": [
    {
     "name": "stdout",
     "output_type": "stream",
     "text": [
      "-                                         277\n",
      "Contributing Factors. Dissatisfaction      55\n",
      "Name: Contributing Factors. Dissatisfaction, dtype: int64\n",
      "-                      270\n",
      "Job Dissatisfaction     62\n",
      "Name: Contributing Factors. Job Dissatisfaction, dtype: int64\n"
     ]
    }
   ],
   "source": [
    "print(tafe_resignations['Contributing Factors. Dissatisfaction'].value_counts())\n",
    "print(tafe_resignations['Contributing Factors. Job Dissatisfaction'].value_counts())"
   ]
  },
  {
   "cell_type": "code",
   "execution_count": 17,
   "metadata": {
    "collapsed": false
   },
   "outputs": [
    {
     "name": "stdout",
     "output_type": "stream",
     "text": [
      "    Contributing Factors. Dissatisfaction  \\\n",
      "3                                   False   \n",
      "4                                   False   \n",
      "5                                   False   \n",
      "6                                   False   \n",
      "7                                   False   \n",
      "8                                   False   \n",
      "9                                   False   \n",
      "10                                  False   \n",
      "13                                  False   \n",
      "14                                   True   \n",
      "15                                  False   \n",
      "16                                    NaN   \n",
      "17                                  False   \n",
      "18                                    NaN   \n",
      "19                                  False   \n",
      "20                                   True   \n",
      "21                                  False   \n",
      "22                                  False   \n",
      "23                                  False   \n",
      "24                                  False   \n",
      "26                                   True   \n",
      "27                                  False   \n",
      "29                                  False   \n",
      "32                                  False   \n",
      "36                                  False   \n",
      "37                                  False   \n",
      "39                                  False   \n",
      "40                                   True   \n",
      "41                                  False   \n",
      "42                                  False   \n",
      "..                                    ...   \n",
      "122                                 False   \n",
      "124                                 False   \n",
      "125                                 False   \n",
      "126                                 False   \n",
      "128                                 False   \n",
      "129                                 False   \n",
      "130                                 False   \n",
      "131                                 False   \n",
      "132                                 False   \n",
      "133                                 False   \n",
      "134                                  True   \n",
      "135                                  True   \n",
      "136                                 False   \n",
      "137                                 False   \n",
      "138                                 False   \n",
      "145                                 False   \n",
      "148                                 False   \n",
      "149                                 False   \n",
      "150                                 False   \n",
      "151                                 False   \n",
      "152                                 False   \n",
      "153                                 False   \n",
      "159                                  True   \n",
      "160                                 False   \n",
      "161                                 False   \n",
      "164                                  True   \n",
      "167                                 False   \n",
      "168                                 False   \n",
      "169                                  True   \n",
      "172                                 False   \n",
      "\n",
      "    Contributing Factors. Job Dissatisfaction  \n",
      "3                                       False  \n",
      "4                                       False  \n",
      "5                                       False  \n",
      "6                                       False  \n",
      "7                                       False  \n",
      "8                                       False  \n",
      "9                                       False  \n",
      "10                                      False  \n",
      "13                                      False  \n",
      "14                                       True  \n",
      "15                                      False  \n",
      "16                                        NaN  \n",
      "17                                       True  \n",
      "18                                        NaN  \n",
      "19                                      False  \n",
      "20                                       True  \n",
      "21                                      False  \n",
      "22                                      False  \n",
      "23                                      False  \n",
      "24                                      False  \n",
      "26                                       True  \n",
      "27                                      False  \n",
      "29                                      False  \n",
      "32                                      False  \n",
      "36                                      False  \n",
      "37                                      False  \n",
      "39                                      False  \n",
      "40                                      False  \n",
      "41                                      False  \n",
      "42                                      False  \n",
      "..                                        ...  \n",
      "122                                     False  \n",
      "124                                      True  \n",
      "125                                      True  \n",
      "126                                      True  \n",
      "128                                     False  \n",
      "129                                     False  \n",
      "130                                     False  \n",
      "131                                     False  \n",
      "132                                     False  \n",
      "133                                     False  \n",
      "134                                      True  \n",
      "135                                     False  \n",
      "136                                     False  \n",
      "137                                     False  \n",
      "138                                     False  \n",
      "145                                     False  \n",
      "148                                     False  \n",
      "149                                     False  \n",
      "150                                     False  \n",
      "151                                     False  \n",
      "152                                     False  \n",
      "153                                     False  \n",
      "159                                     False  \n",
      "160                                     False  \n",
      "161                                     False  \n",
      "164                                      True  \n",
      "167                                     False  \n",
      "168                                     False  \n",
      "169                                      True  \n",
      "172                                     False  \n",
      "\n",
      "[110 rows x 2 columns]\n"
     ]
    }
   ],
   "source": [
    "def update_vals(val):\n",
    "    if(pd.isnull(val)):\n",
    "        return np.nan\n",
    "    elif(val == '-'):\n",
    "        return False\n",
    "    else:\n",
    "        return True\n",
    "\n",
    "tafe_resignations[['Contributing Factors. Dissatisfaction', 'Contributing Factors. Job Dissatisfaction']] = tafe_resignations[['Contributing Factors. Dissatisfaction', 'Contributing Factors. Job Dissatisfaction']].applymap(update_vals)\n",
    "print(tafe_resignations[['Contributing Factors. Dissatisfaction', 'Contributing Factors. Job Dissatisfaction']].head(110))"
   ]
  },
  {
   "cell_type": "code",
   "execution_count": 18,
   "metadata": {
    "collapsed": false
   },
   "outputs": [
    {
     "name": "stdout",
     "output_type": "stream",
     "text": [
      "3     False\n",
      "4     False\n",
      "5     False\n",
      "6     False\n",
      "7     False\n",
      "8     False\n",
      "9     False\n",
      "10    False\n",
      "13    False\n",
      "14     True\n",
      "15    False\n",
      "16    False\n",
      "17     True\n",
      "18    False\n",
      "19    False\n",
      "20     True\n",
      "21    False\n",
      "22    False\n",
      "23    False\n",
      "24    False\n",
      "Name: dissatisfied, dtype: bool\n"
     ]
    }
   ],
   "source": [
    "tafe_resignations['dissatisfied'] = tafe_resignations[['Contributing Factors. Dissatisfaction', 'Contributing Factors. Job Dissatisfaction']].any(axis=1)\n",
    "print(tafe_resignations['dissatisfied'].head(20))"
   ]
  },
  {
   "cell_type": "code",
   "execution_count": 19,
   "metadata": {
    "collapsed": false
   },
   "outputs": [
    {
     "name": "stdout",
     "output_type": "stream",
     "text": [
      "3     False\n",
      "5      True\n",
      "8     False\n",
      "9      True\n",
      "11    False\n",
      "12    False\n",
      "14     True\n",
      "16     True\n",
      "20    False\n",
      "21    False\n",
      "22     True\n",
      "23     True\n",
      "25     True\n",
      "27    False\n",
      "33     True\n",
      "34     True\n",
      "37    False\n",
      "39     True\n",
      "40    False\n",
      "41     True\n",
      "Name: dissatisfied, dtype: bool\n"
     ]
    }
   ],
   "source": [
    "dete_resignations['dissatisfied'] = dete_resignations[['job_dissatisfaction', 'dissatisfaction_with_the_department', 'physical_work_environment', 'lack_of_recognition', 'lack_of_job_security', 'work_location', 'employment_conditions', 'work_life_balance', 'workload']].any(axis=1)\n",
    "print(dete_resignations['dissatisfied'].head(20))"
   ]
  },
  {
   "cell_type": "markdown",
   "metadata": {},
   "source": [
    "We've now identified employees who resigned because of some sort of insatisfaction."
   ]
  },
  {
   "cell_type": "markdown",
   "metadata": {},
   "source": [
    "<h3>Step 8 - Combining the two data sets</h3>\n",
    "\n",
    "We'll now combine the two data sets to perfom our analysis on the cause of resignation in correlation with the time of service.\n",
    "\n",
    "First, we'll add a column to identify the institute to which the employee is attached before merging the data sets."
   ]
  },
  {
   "cell_type": "code",
   "execution_count": 20,
   "metadata": {
    "collapsed": true
   },
   "outputs": [],
   "source": [
    "dete_resignations['institute'] = 'DETE'\n",
    "tafe_resignations['institute'] = 'TAFE'"
   ]
  },
  {
   "cell_type": "code",
   "execution_count": 21,
   "metadata": {
    "collapsed": false
   },
   "outputs": [
    {
     "name": "stdout",
     "output_type": "stream",
     "text": [
      "(651, 53)\n",
      "   Contributing Factors. Career Move - Private Sector   \\\n",
      "3                                                 NaN    \n",
      "5                                                 NaN    \n",
      "8                                                 NaN    \n",
      "9                                                 NaN    \n",
      "11                                                NaN    \n",
      "\n",
      "   Contributing Factors. Career Move - Public Sector   \\\n",
      "3                                                 NaN   \n",
      "5                                                 NaN   \n",
      "8                                                 NaN   \n",
      "9                                                 NaN   \n",
      "11                                                NaN   \n",
      "\n",
      "   Contributing Factors. Career Move - Self-employment  \\\n",
      "3                                                 NaN    \n",
      "5                                                 NaN    \n",
      "8                                                 NaN    \n",
      "9                                                 NaN    \n",
      "11                                                NaN    \n",
      "\n",
      "   Contributing Factors. Dissatisfaction Contributing Factors. Ill Health  \\\n",
      "3                                    NaN                              NaN   \n",
      "5                                    NaN                              NaN   \n",
      "8                                    NaN                              NaN   \n",
      "9                                    NaN                              NaN   \n",
      "11                                   NaN                              NaN   \n",
      "\n",
      "   Contributing Factors. Interpersonal Conflict  \\\n",
      "3                                           NaN   \n",
      "5                                           NaN   \n",
      "8                                           NaN   \n",
      "9                                           NaN   \n",
      "11                                          NaN   \n",
      "\n",
      "   Contributing Factors. Job Dissatisfaction  \\\n",
      "3                                        NaN   \n",
      "5                                        NaN   \n",
      "8                                        NaN   \n",
      "9                                        NaN   \n",
      "11                                       NaN   \n",
      "\n",
      "   Contributing Factors. Maternity/Family Contributing Factors. NONE  \\\n",
      "3                                     NaN                        NaN   \n",
      "5                                     NaN                        NaN   \n",
      "8                                     NaN                        NaN   \n",
      "9                                     NaN                        NaN   \n",
      "11                                    NaN                        NaN   \n",
      "\n",
      "   Contributing Factors. Other    ...    role_service role_start_date  \\\n",
      "3                          NaN    ...             NaN          2006.0   \n",
      "5                          NaN    ...             NaN          1997.0   \n",
      "8                          NaN    ...             NaN          2009.0   \n",
      "9                          NaN    ...             NaN          2008.0   \n",
      "11                         NaN    ...             NaN          2009.0   \n",
      "\n",
      "                          separationtype south_sea study/travel torres_strait  \\\n",
      "3              Resignation-Other reasons       NaN        False           NaN   \n",
      "5              Resignation-Other reasons       NaN        False           NaN   \n",
      "8              Resignation-Other reasons       NaN        False           NaN   \n",
      "9             Resignation-Other employer       NaN        False           NaN   \n",
      "11  Resignation-Move overseas/interstate       NaN        False           NaN   \n",
      "\n",
      "   traumatic_incident work_life_balance work_location  workload  \n",
      "3               False             False         False     False  \n",
      "5               False             False         False     False  \n",
      "8               False             False         False     False  \n",
      "9               False             False         False     False  \n",
      "11              False             False         False     False  \n",
      "\n",
      "[5 rows x 53 columns]\n"
     ]
    }
   ],
   "source": [
    "combined = pd.concat([dete_resignations, tafe_resignations], axis = 0)\n",
    "print(combined.shape)\n",
    "print(combined.head())"
   ]
  },
  {
   "cell_type": "code",
   "execution_count": 22,
   "metadata": {
    "collapsed": false
   },
   "outputs": [
    {
     "name": "stdout",
     "output_type": "stream",
     "text": [
      "(651, 10)\n",
      "      age  cease_date  dissatisfied    employment_status  gender    id  \\\n",
      "3   36-40      2012.0         False  Permanent Full-time  Female   4.0   \n",
      "5   41-45      2012.0          True  Permanent Full-time  Female   6.0   \n",
      "8   31-35      2012.0         False  Permanent Full-time  Female   9.0   \n",
      "9   46-50      2012.0          True  Permanent Part-time  Female  10.0   \n",
      "11  31-35      2012.0         False  Permanent Full-time    Male  12.0   \n",
      "\n",
      "   institute institute_service          position  \\\n",
      "3       DETE                 7           Teacher   \n",
      "5       DETE                18  Guidance Officer   \n",
      "8       DETE                 3           Teacher   \n",
      "9       DETE                15      Teacher Aide   \n",
      "11      DETE                 3           Teacher   \n",
      "\n",
      "                          separationtype  \n",
      "3              Resignation-Other reasons  \n",
      "5              Resignation-Other reasons  \n",
      "8              Resignation-Other reasons  \n",
      "9             Resignation-Other employer  \n",
      "11  Resignation-Move overseas/interstate  \n"
     ]
    }
   ],
   "source": [
    "combined_updated = combined.dropna(axis = 1, thresh=500)\n",
    "print(combined_updated.shape)\n",
    "print(combined_updated.head())"
   ]
  },
  {
   "cell_type": "markdown",
   "metadata": {},
   "source": [
    "We've now combined the two tables vertically and kept only the columns that were common to the two individual data sets."
   ]
  },
  {
   "cell_type": "markdown",
   "metadata": {},
   "source": [
    "<h3>Step 9 - Cleaning of the institute_service column</h3>\n",
    "\n",
    "In the last step before our analysis, we need to uniformize the data from the institute_service column and the seperate it into categories. We chose: New (0-3 years), Experienced (3-6 years), Established (7-10 years), Veteran (11+ years)."
   ]
  },
  {
   "cell_type": "code",
   "execution_count": 23,
   "metadata": {
    "collapsed": false
   },
   "outputs": [
    {
     "name": "stdout",
     "output_type": "stream",
     "text": [
      "Less than 1 year      73\n",
      "1-2                   64\n",
      "3-4                   63\n",
      "5-6                   33\n",
      "11-20                 26\n",
      "5.0                   23\n",
      "1.0                   22\n",
      "7-10                  21\n",
      "3.0                   20\n",
      "0.0                   20\n",
      "6.0                   17\n",
      "4.0                   16\n",
      "2.0                   14\n",
      "9.0                   14\n",
      "7.0                   13\n",
      "More than 20 years    10\n",
      "8.0                    8\n",
      "13.0                   8\n",
      "15.0                   7\n",
      "20.0                   7\n",
      "12.0                   6\n",
      "22.0                   6\n",
      "17.0                   6\n",
      "14.0                   6\n",
      "10.0                   6\n",
      "18.0                   5\n",
      "16.0                   5\n",
      "23.0                   4\n",
      "11.0                   4\n",
      "24.0                   4\n",
      "39.0                   3\n",
      "32.0                   3\n",
      "21.0                   3\n",
      "19.0                   3\n",
      "26.0                   2\n",
      "28.0                   2\n",
      "30.0                   2\n",
      "25.0                   2\n",
      "36.0                   2\n",
      "27.0                   1\n",
      "29.0                   1\n",
      "31.0                   1\n",
      "33.0                   1\n",
      "34.0                   1\n",
      "41.0                   1\n",
      "35.0                   1\n",
      "42.0                   1\n",
      "49.0                   1\n",
      "38.0                   1\n",
      "Name: institute_service, dtype: int64\n"
     ]
    }
   ],
   "source": [
    "print(combined_updated['institute_service'].value_counts())\n"
   ]
  },
  {
   "cell_type": "code",
   "execution_count": 24,
   "metadata": {
    "collapsed": false,
    "scrolled": true
   },
   "outputs": [
    {
     "name": "stdout",
     "output_type": "stream",
     "text": [
      "1.0     159\n",
      "3.0      83\n",
      "5.0      56\n",
      "7.0      34\n",
      "11.0     30\n",
      "0.0      20\n",
      "20.0     17\n",
      "6.0      17\n",
      "4.0      16\n",
      "9.0      14\n",
      "2.0      14\n",
      "13.0      8\n",
      "8.0       8\n",
      "15.0      7\n",
      "17.0      6\n",
      "10.0      6\n",
      "12.0      6\n",
      "14.0      6\n",
      "22.0      6\n",
      "16.0      5\n",
      "18.0      5\n",
      "24.0      4\n",
      "23.0      4\n",
      "39.0      3\n",
      "19.0      3\n",
      "21.0      3\n",
      "32.0      3\n",
      "28.0      2\n",
      "36.0      2\n",
      "25.0      2\n",
      "30.0      2\n",
      "26.0      2\n",
      "29.0      1\n",
      "38.0      1\n",
      "42.0      1\n",
      "27.0      1\n",
      "41.0      1\n",
      "35.0      1\n",
      "49.0      1\n",
      "34.0      1\n",
      "33.0      1\n",
      "31.0      1\n",
      "Name: institute_service, dtype: int64\n"
     ]
    },
    {
     "name": "stderr",
     "output_type": "stream",
     "text": [
      "/dataquest/system/env/python3/lib/python3.4/site-packages/ipykernel/__main__.py:16: SettingWithCopyWarning: \n",
      "A value is trying to be set on a copy of a slice from a DataFrame.\n",
      "Try using .loc[row_indexer,col_indexer] = value instead\n",
      "\n",
      "See the caveats in the documentation: http://pandas.pydata.org/pandas-docs/stable/indexing.html#indexing-view-versus-copy\n"
     ]
    }
   ],
   "source": [
    "def extract_year(string):\n",
    "    string = string.split(' ')\n",
    "    if(len(string) > 1):\n",
    "        string = string[2]\n",
    "        return string\n",
    "    string = string[0].split('.')\n",
    "    if(len(string) > 1):\n",
    "        string = string[0]\n",
    "        return string\n",
    "    string = string[0].split('-')\n",
    "    if(len(string) > 1):\n",
    "        string = string[0]\n",
    "        return string\n",
    "\n",
    "institute_service_clean = combined_updated['institute_service'].astype('str').apply(extract_year)\n",
    "combined_updated['institute_service'] = institute_service_clean.astype('float')\n",
    "print(combined_updated['institute_service'].value_counts())"
   ]
  },
  {
   "cell_type": "code",
   "execution_count": 25,
   "metadata": {
    "collapsed": false
   },
   "outputs": [
    {
     "name": "stdout",
     "output_type": "stream",
     "text": [
      "New            193\n",
      "Experienced    172\n",
      "Veteran        136\n",
      "Unknown         88\n",
      "Established     62\n",
      "Name: service_cat, dtype: int64\n"
     ]
    },
    {
     "name": "stderr",
     "output_type": "stream",
     "text": [
      "/dataquest/system/env/python3/lib/python3.4/site-packages/ipykernel/__main__.py:13: SettingWithCopyWarning: \n",
      "A value is trying to be set on a copy of a slice from a DataFrame.\n",
      "Try using .loc[row_indexer,col_indexer] = value instead\n",
      "\n",
      "See the caveats in the documentation: http://pandas.pydata.org/pandas-docs/stable/indexing.html#indexing-view-versus-copy\n"
     ]
    }
   ],
   "source": [
    "def assign_category(exp_years):\n",
    "    if(pd.isnull(exp_years)):\n",
    "        return \"Unknown\"\n",
    "    elif(exp_years < 3):\n",
    "        return \"New\"\n",
    "    elif(3 <= exp_years <= 6):\n",
    "        return \"Experienced\"\n",
    "    elif(7 <= exp_years <= 10):\n",
    "        return \"Established\"\n",
    "    else:\n",
    "        return \"Veteran\"\n",
    "    \n",
    "combined_updated['service_cat'] = combined_updated['institute_service'].apply(assign_category)\n",
    "print(combined_updated['service_cat'].value_counts())"
   ]
  },
  {
   "cell_type": "markdown",
   "metadata": {},
   "source": [
    "We've now cleaned the institue_service column data and created a knew column service_cat in which we assignated a category to classify the experience of the employees had in the company. We're now ready to perform our analysis."
   ]
  },
  {
   "cell_type": "markdown",
   "metadata": {
    "collapsed": true
   },
   "source": [
    "<h3>Step 10 - Analysis of the dissatified employees data</h3>\n",
    "\n",
    "Now we're ready to perform our analysis. We'll look at the proportion of dissatisfied employees in relation to the category of service time we've assigned them."
   ]
  },
  {
   "cell_type": "code",
   "execution_count": 29,
   "metadata": {
    "collapsed": false
   },
   "outputs": [
    {
     "name": "stdout",
     "output_type": "stream",
     "text": [
      "False    411\n",
      "True     240\n",
      "Name: dissatisfied, dtype: int64\n"
     ]
    }
   ],
   "source": [
    "print(combined_updated['dissatisfied'].value_counts(dropna=False))"
   ]
  },
  {
   "cell_type": "code",
   "execution_count": 42,
   "metadata": {
    "collapsed": false
   },
   "outputs": [
    {
     "name": "stdout",
     "output_type": "stream",
     "text": [
      "             dissatisfied\n",
      "service_cat              \n",
      "Established      0.516129\n",
      "Experienced      0.343023\n",
      "New              0.295337\n",
      "Unknown          0.295455\n",
      "Veteran          0.485294\n"
     ]
    }
   ],
   "source": [
    "results = combined_updated.pivot_table(index=['service_cat'], values=['dissatisfied'])\n",
    "print(results)"
   ]
  },
  {
   "cell_type": "code",
   "execution_count": 47,
   "metadata": {
    "collapsed": false
   },
   "outputs": [
    {
     "data": {
      "text/plain": [
       "<matplotlib.axes._subplots.AxesSubplot at 0x7f41e5bfe470>"
      ]
     },
     "execution_count": 47,
     "metadata": {},
     "output_type": "execute_result"
    },
    {
     "data": {
      "image/png": "[encoded data removed]",
      "text/plain": [
       "<matplotlib.figure.Figure at 0x7f41e5c11908>"
      ]
     },
     "metadata": {},
     "output_type": "display_data"
    }
   ],
   "source": [
    "%matplotlib inline\n",
    "results.plot(kind='bar', ylim=[0, 1])"
   ]
  },
  {
   "cell_type": "markdown",
   "metadata": {},
   "source": [
    "We can conclude that older employees resigned in higher proportion due to some sort of instisfaction. "
   ]
  },
  {
   "cell_type": "code",
   "execution_count": null,
   "metadata": {
    "collapsed": true
   },
   "outputs": [],
   "source": []
  }
 ],
 "metadata": {
  "kernelspec": {
   "display_name": "Python 3",
   "language": "python",
   "name": "python3"
  },
  "language_info": {
   "codemirror_mode": {
    "name": "ipython",
    "version": 3
   },
   "file_extension": ".py",
   "mimetype": "text/x-python",
   "name": "python",
   "nbconvert_exporter": "python",
   "pygments_lexer": "ipython3",
   "version": "3.4.3"
  }
 },
 "nbformat": 4,
 "nbformat_minor": 2
}
